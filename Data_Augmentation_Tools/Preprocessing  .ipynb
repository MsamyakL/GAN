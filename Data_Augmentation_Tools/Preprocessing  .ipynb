{
  "nbformat": 4,
  "nbformat_minor": 0,
  "metadata": {
    "kernelspec": {
      "display_name": "Python 3",
      "language": "python",
      "name": "python3"
    },
    "language_info": {
      "codemirror_mode": {
        "name": "ipython",
        "version": 3
      },
      "file_extension": ".py",
      "mimetype": "text/x-python",
      "name": "python",
      "nbconvert_exporter": "python",
      "pygments_lexer": "ipython3",
      "version": "3.7.3"
    },
    "colab": {
      "name": "Rename .ipynb",
      "provenance": [],
      "toc_visible": true
    },
    "accelerator": "GPU"
  },
  "cells": [
    {
      "cell_type": "markdown",
      "metadata": {
        "id": "5f2QcfoD_fhC",
        "colab_type": "text"
      },
      "source": [
        "# Rename"
      ]
    },
    {
      "cell_type": "code",
      "metadata": {
        "id": "ABDfVuy_hZPm",
        "colab_type": "code",
        "colab": {
          "base_uri": "https://localhost:8080/",
          "height": 121
        },
        "outputId": "f9407c25-30d3-43fb-8f14-a7f5ba495193"
      },
      "source": [
        "from google.colab import drive\n",
        "drive.mount('/content/drive')"
      ],
      "execution_count": null,
      "outputs": [
        {
          "output_type": "stream",
          "text": [
            "Go to this URL in a browser: https://accounts.google.com/o/oauth2/auth?client_id=947318989803-6bn6qk8qdgf4n4g3pfee6491hc0brc4i.apps.googleusercontent.com&redirect_uri=urn%3aietf%3awg%3aoauth%3a2.0%3aoob&response_type=code&scope=email%20https%3a%2f%2fwww.googleapis.com%2fauth%2fdocs.test%20https%3a%2f%2fwww.googleapis.com%2fauth%2fdrive%20https%3a%2f%2fwww.googleapis.com%2fauth%2fdrive.photos.readonly%20https%3a%2f%2fwww.googleapis.com%2fauth%2fpeopleapi.readonly\n",
            "\n",
            "Enter your authorization code:\n",
            "··········\n",
            "Mounted at /content/drive\n"
          ],
          "name": "stdout"
        }
      ]
    },
    {
      "cell_type": "code",
      "metadata": {
        "id": "lI6ammr0_fhH",
        "colab_type": "code",
        "colab": {}
      },
      "source": [
        "import os \n",
        "import shutil"
      ],
      "execution_count": null,
      "outputs": []
    },
    {
      "cell_type": "code",
      "metadata": {
        "id": "bkAmQZmjBaqU",
        "colab_type": "code",
        "colab": {
          "base_uri": "https://localhost:8080/",
          "height": 33
        },
        "outputId": "a4f9fe66-b37c-46b8-c606-8e95e7722dd1"
      },
      "source": [
        "!pwd"
      ],
      "execution_count": null,
      "outputs": [
        {
          "output_type": "stream",
          "text": [
            "/content\n"
          ],
          "name": "stdout"
        }
      ]
    },
    {
      "cell_type": "code",
      "metadata": {
        "id": "KsUXqblc_fhS",
        "colab_type": "code",
        "colab": {}
      },
      "source": [
        "# Final images will be added here\n",
        "# Give the path of the folder in which all the data is transfered\n",
        "os.chdir(\"//content//drive//My Drive//cit\")"
      ],
      "execution_count": null,
      "outputs": []
    },
    {
      "cell_type": "code",
      "metadata": {
        "id": "5__HnJHn_fhY",
        "colab_type": "code",
        "colab": {}
      },
      "source": [
        "# Upload all images in a folder named Total  \n",
        "# Give the path of the Total folder\n",
        "src = \"/content/drive/My Drive/Total\""
      ],
      "execution_count": null,
      "outputs": []
    },
    {
      "cell_type": "code",
      "metadata": {
        "id": "PpwZErxD_fhd",
        "colab_type": "code",
        "colab": {}
      },
      "source": [
        "i = 0"
      ],
      "execution_count": null,
      "outputs": []
    },
    {
      "cell_type": "code",
      "metadata": {
        "id": "i3C8KnOE_fhh",
        "colab_type": "code",
        "colab": {}
      },
      "source": [
        "for dirs,subdirs,files in os.walk(src):\n",
        "    for file in files:\n",
        "        filename = os.path.join(src,dirs,file)\n",
        "        if os.path.exists(filename):\n",
        "            my_dest = str(i) + \".jpg\"\n",
        "            my_source = filename\n",
        "            my_dest = my_dest\n",
        "            os.rename(my_source, my_dest)\n",
        "            i += 1\n",
        "                \n"
      ],
      "execution_count": null,
      "outputs": []
    },
    {
      "cell_type": "code",
      "metadata": {
        "id": "wYjAnRmJ_fhl",
        "colab_type": "code",
        "colab": {}
      },
      "source": [
        ""
      ],
      "execution_count": null,
      "outputs": []
    },
    {
      "cell_type": "code",
      "metadata": {
        "id": "a-ru4WOa_fho",
        "colab_type": "code",
        "colab": {}
      },
      "source": [
        "/content/sample_data/README.md"
      ],
      "execution_count": null,
      "outputs": []
    }
  ]
}