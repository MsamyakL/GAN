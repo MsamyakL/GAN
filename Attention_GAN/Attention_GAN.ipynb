{
  "nbformat": 4,
  "nbformat_minor": 0,
  "metadata": {
    "colab": {
      "name": "Attention_GAN.ipynb",
      "provenance": [],
      "collapsed_sections": []
    },
    "kernelspec": {
      "name": "python3",
      "display_name": "Python 3"
    },
    "accelerator": "GPU"
  },
  "cells": [
    {
      "cell_type": "code",
      "metadata": {
        "id": "yJV9y4cqblw6",
        "colab_type": "code",
        "colab": {
          "base_uri": "https://localhost:8080/",
          "height": 125
        },
        "outputId": "9e1a1c6d-1690-43e7-a411-6d13a9284d94"
      },
      "source": [
        "from google.colab import drive\n",
        "ROOT = \"/content/drive\"\n",
        "drive.mount(ROOT)"
      ],
      "execution_count": null,
      "outputs": [
        {
          "output_type": "stream",
          "text": [
            "Go to this URL in a browser: https://accounts.google.com/o/oauth2/auth?client_id=947318989803-6bn6qk8qdgf4n4g3pfee6491hc0brc4i.apps.googleusercontent.com&redirect_uri=urn%3aietf%3awg%3aoauth%3a2.0%3aoob&response_type=code&scope=email%20https%3a%2f%2fwww.googleapis.com%2fauth%2fdocs.test%20https%3a%2f%2fwww.googleapis.com%2fauth%2fdrive%20https%3a%2f%2fwww.googleapis.com%2fauth%2fdrive.photos.readonly%20https%3a%2f%2fwww.googleapis.com%2fauth%2fpeopleapi.readonly\n",
            "\n",
            "Enter your authorization code:\n",
            "··········\n",
            "Mounted at /content/drive\n"
          ],
          "name": "stdout"
        }
      ]
    },
    {
      "cell_type": "code",
      "metadata": {
        "id": "7JknhzMKpwmD",
        "colab_type": "code",
        "colab": {
          "base_uri": "https://localhost:8080/",
          "height": 34
        },
        "outputId": "046d6a1b-0d6a-41f9-8cfd-e5efa700b840"
      },
      "source": [
        "%cd drive/My\\ Drive/"
      ],
      "execution_count": null,
      "outputs": [
        {
          "output_type": "stream",
          "text": [
            "/content/drive/My Drive\n"
          ],
          "name": "stdout"
        }
      ]
    },
    {
      "cell_type": "code",
      "metadata": {
        "id": "UeAiNlLfpwi7",
        "colab_type": "code",
        "colab": {
          "base_uri": "https://localhost:8080/",
          "height": 34
        },
        "outputId": "f62722a8-33dd-45f1-9a32-58d71937445d"
      },
      "source": [
        "%cd Repo"
      ],
      "execution_count": null,
      "outputs": [
        {
          "output_type": "stream",
          "text": [
            "/content/drive/My Drive/Repo\n"
          ],
          "name": "stdout"
        }
      ]
    },
    {
      "cell_type": "code",
      "metadata": {
        "id": "-syoimAOpwg6",
        "colab_type": "code",
        "colab": {
          "base_uri": "https://localhost:8080/",
          "height": 34
        },
        "outputId": "29f4e32c-8cf2-4caf-8515-939b8b6704d8"
      },
      "source": [
        "cd Attention"
      ],
      "execution_count": null,
      "outputs": [
        {
          "output_type": "stream",
          "text": [
            "/content/drive/My Drive/Repo/Attention\n"
          ],
          "name": "stdout"
        }
      ]
    },
    {
      "cell_type": "code",
      "metadata": {
        "id": "zXtirkP9pwds",
        "colab_type": "code",
        "colab": {
          "base_uri": "https://localhost:8080/",
          "height": 34
        },
        "outputId": "52e86258-6b9b-49e5-f831-8f9df171f601"
      },
      "source": [
        "!pwd"
      ],
      "execution_count": null,
      "outputs": [
        {
          "output_type": "stream",
          "text": [
            "/content/drive/My Drive/Repo/Attention\n"
          ],
          "name": "stdout"
        }
      ]
    },
    {
      "cell_type": "code",
      "metadata": {
        "id": "awQX9HxanS4k",
        "colab_type": "code",
        "colab": {
          "base_uri": "https://localhost:8080/",
          "height": 420
        },
        "outputId": "4512d8ed-28b6-4a7a-9a1d-1e8e2d314b4d"
      },
      "source": [
        "\n",
        "# # Clone github repository setup\n",
        "# # import join used to join ROOT path and MY_GOOGLE_DRIVE_PATH\n",
        "# from os.path import join  \n",
        "\n",
        "# # path to your project on Google Drive\n",
        "# MY_GOOGLE_DRIVE_PATH = '//content//drive//My Drive//Repo//Attention' \n",
        "# # replace with your Github username \n",
        "# GIT_USERNAME = \" Yaha Github Username daal dena apna\" \n",
        "# # definitely replace with your\n",
        "# GIT_TOKEN = \"{Iske andhar generated token daal dena}\"  \n",
        "# # Replace with your github repository in this case we want \n",
        "# # to clone deep-learning-v2-pytorch repository\n",
        "# GIT_REPOSITORY = \"AttentionGAN\" \n",
        "\n",
        "# PROJECT_PATH = join(ROOT, MY_GOOGLE_DRIVE_PATH)\n",
        "\n",
        "# # It's good to print out the value if you are not sure \n",
        "# print(\"PROJECT_PATH: \", PROJECT_PATH)   \n",
        "\n",
        "# # In case we haven't created the folder already; we will create a folder in the project path \n",
        "# !mkdir \"{PROJECT_PATH}\"    \n",
        "\n",
        "# #GIT_PATH = \"https://{GIT_TOKEN}@github.com/{GIT_USERNAME}/{GIT_REPOSITORY}.git\" this return 400 Bad Request for me\n",
        "# GIT_PATH = \"https://\" + GIT_TOKEN + \"@github.com/\" + GIT_USERNAME + \"/\" + GIT_REPOSITORY + \".git\"\n",
        "# print(\"GIT_PATH: \", GIT_PATH)"
      ],
      "execution_count": null,
      "outputs": [
        {
          "output_type": "stream",
          "text": [
            "PROJECT_PATH:  //content//drive//My Drive//Repo//Attention\n",
            "mkdir: cannot create directory ‘//content//drive//My Drive//Repo//Attention’: File exists\n"
          ],
          "name": "stdout"
        },
        {
          "output_type": "error",
          "ename": "KeyboardInterrupt",
          "evalue": "ignored",
          "traceback": [
            "\u001b[0;31m---------------------------------------------------------------------------\u001b[0m",
            "\u001b[0;31mKeyboardInterrupt\u001b[0m                         Traceback (most recent call last)",
            "\u001b[0;32m<ipython-input-8-6480ea4e87ec>\u001b[0m in \u001b[0;36m<module>\u001b[0;34m()\u001b[0m\n\u001b[1;32m     20\u001b[0m \u001b[0;34m\u001b[0m\u001b[0m\n\u001b[1;32m     21\u001b[0m \u001b[0;31m# In case we haven't created the folder already; we will create a folder in the project path\u001b[0m\u001b[0;34m\u001b[0m\u001b[0;34m\u001b[0m\u001b[0;34m\u001b[0m\u001b[0m\n\u001b[0;32m---> 22\u001b[0;31m \u001b[0mget_ipython\u001b[0m\u001b[0;34m(\u001b[0m\u001b[0;34m)\u001b[0m\u001b[0;34m.\u001b[0m\u001b[0msystem\u001b[0m\u001b[0;34m(\u001b[0m\u001b[0;34m'mkdir \"{PROJECT_PATH}\"    '\u001b[0m\u001b[0;34m)\u001b[0m\u001b[0;34m\u001b[0m\u001b[0;34m\u001b[0m\u001b[0m\n\u001b[0m\u001b[1;32m     23\u001b[0m \u001b[0;34m\u001b[0m\u001b[0m\n\u001b[1;32m     24\u001b[0m \u001b[0;31m#GIT_PATH = \"https://{GIT_TOKEN}@github.com/{GIT_USERNAME}/{GIT_REPOSITORY}.git\" this return 400 Bad Request for me\u001b[0m\u001b[0;34m\u001b[0m\u001b[0;34m\u001b[0m\u001b[0;34m\u001b[0m\u001b[0m\n",
            "\u001b[0;32m/usr/local/lib/python3.6/dist-packages/google/colab/_shell.py\u001b[0m in \u001b[0;36msystem\u001b[0;34m(self, *args, **kwargs)\u001b[0m\n\u001b[1;32m    100\u001b[0m       \u001b[0mkwargs\u001b[0m\u001b[0;34m.\u001b[0m\u001b[0mupdate\u001b[0m\u001b[0;34m(\u001b[0m\u001b[0;34m{\u001b[0m\u001b[0;34m'also_return_output'\u001b[0m\u001b[0;34m:\u001b[0m \u001b[0;32mTrue\u001b[0m\u001b[0;34m}\u001b[0m\u001b[0;34m)\u001b[0m\u001b[0;34m\u001b[0m\u001b[0;34m\u001b[0m\u001b[0m\n\u001b[1;32m    101\u001b[0m \u001b[0;34m\u001b[0m\u001b[0m\n\u001b[0;32m--> 102\u001b[0;31m     \u001b[0moutput\u001b[0m \u001b[0;34m=\u001b[0m \u001b[0m_system_commands\u001b[0m\u001b[0;34m.\u001b[0m\u001b[0m_system_compat\u001b[0m\u001b[0;34m(\u001b[0m\u001b[0mself\u001b[0m\u001b[0;34m,\u001b[0m \u001b[0;34m*\u001b[0m\u001b[0margs\u001b[0m\u001b[0;34m,\u001b[0m \u001b[0;34m**\u001b[0m\u001b[0mkwargs\u001b[0m\u001b[0;34m)\u001b[0m  \u001b[0;31m# pylint:disable=protected-access\u001b[0m\u001b[0;34m\u001b[0m\u001b[0;34m\u001b[0m\u001b[0m\n\u001b[0m\u001b[1;32m    103\u001b[0m \u001b[0;34m\u001b[0m\u001b[0m\n\u001b[1;32m    104\u001b[0m     \u001b[0;32mif\u001b[0m \u001b[0mpip_warn\u001b[0m\u001b[0;34m:\u001b[0m\u001b[0;34m\u001b[0m\u001b[0;34m\u001b[0m\u001b[0m\n",
            "\u001b[0;32m/usr/local/lib/python3.6/dist-packages/google/colab/_system_commands.py\u001b[0m in \u001b[0;36m_system_compat\u001b[0;34m(shell, cmd, also_return_output)\u001b[0m\n\u001b[1;32m    436\u001b[0m   \u001b[0;31m# stack.\u001b[0m\u001b[0;34m\u001b[0m\u001b[0;34m\u001b[0m\u001b[0;34m\u001b[0m\u001b[0m\n\u001b[1;32m    437\u001b[0m   result = _run_command(\n\u001b[0;32m--> 438\u001b[0;31m       shell.var_expand(cmd, depth=2), clear_streamed_output=False)\n\u001b[0m\u001b[1;32m    439\u001b[0m   \u001b[0mshell\u001b[0m\u001b[0;34m.\u001b[0m\u001b[0muser_ns\u001b[0m\u001b[0;34m[\u001b[0m\u001b[0;34m'_exit_code'\u001b[0m\u001b[0;34m]\u001b[0m \u001b[0;34m=\u001b[0m \u001b[0mresult\u001b[0m\u001b[0;34m.\u001b[0m\u001b[0mreturncode\u001b[0m\u001b[0;34m\u001b[0m\u001b[0;34m\u001b[0m\u001b[0m\n\u001b[1;32m    440\u001b[0m   \u001b[0;32mif\u001b[0m \u001b[0;34m-\u001b[0m\u001b[0mresult\u001b[0m\u001b[0;34m.\u001b[0m\u001b[0mreturncode\u001b[0m \u001b[0;32min\u001b[0m \u001b[0m_INTERRUPTED_SIGNALS\u001b[0m\u001b[0;34m:\u001b[0m\u001b[0;34m\u001b[0m\u001b[0;34m\u001b[0m\u001b[0m\n",
            "\u001b[0;32m/usr/local/lib/python3.6/dist-packages/google/colab/_system_commands.py\u001b[0m in \u001b[0;36m_run_command\u001b[0;34m(cmd, clear_streamed_output)\u001b[0m\n\u001b[1;32m    193\u001b[0m       \u001b[0mos\u001b[0m\u001b[0;34m.\u001b[0m\u001b[0mclose\u001b[0m\u001b[0;34m(\u001b[0m\u001b[0mchild_pty\u001b[0m\u001b[0;34m)\u001b[0m\u001b[0;34m\u001b[0m\u001b[0;34m\u001b[0m\u001b[0m\n\u001b[1;32m    194\u001b[0m \u001b[0;34m\u001b[0m\u001b[0m\n\u001b[0;32m--> 195\u001b[0;31m       \u001b[0;32mreturn\u001b[0m \u001b[0m_monitor_process\u001b[0m\u001b[0;34m(\u001b[0m\u001b[0mparent_pty\u001b[0m\u001b[0;34m,\u001b[0m \u001b[0mepoll\u001b[0m\u001b[0;34m,\u001b[0m \u001b[0mp\u001b[0m\u001b[0;34m,\u001b[0m \u001b[0mcmd\u001b[0m\u001b[0;34m,\u001b[0m \u001b[0mupdate_stdin_widget\u001b[0m\u001b[0;34m)\u001b[0m\u001b[0;34m\u001b[0m\u001b[0;34m\u001b[0m\u001b[0m\n\u001b[0m\u001b[1;32m    196\u001b[0m   \u001b[0;32mfinally\u001b[0m\u001b[0;34m:\u001b[0m\u001b[0;34m\u001b[0m\u001b[0;34m\u001b[0m\u001b[0m\n\u001b[1;32m    197\u001b[0m     \u001b[0mepoll\u001b[0m\u001b[0;34m.\u001b[0m\u001b[0mclose\u001b[0m\u001b[0;34m(\u001b[0m\u001b[0;34m)\u001b[0m\u001b[0;34m\u001b[0m\u001b[0;34m\u001b[0m\u001b[0m\n",
            "\u001b[0;32m/usr/lib/python3.6/contextlib.py\u001b[0m in \u001b[0;36m__exit__\u001b[0;34m(self, type, value, traceback)\u001b[0m\n\u001b[1;32m     86\u001b[0m         \u001b[0;32mif\u001b[0m \u001b[0mtype\u001b[0m \u001b[0;32mis\u001b[0m \u001b[0;32mNone\u001b[0m\u001b[0;34m:\u001b[0m\u001b[0;34m\u001b[0m\u001b[0;34m\u001b[0m\u001b[0m\n\u001b[1;32m     87\u001b[0m             \u001b[0;32mtry\u001b[0m\u001b[0;34m:\u001b[0m\u001b[0;34m\u001b[0m\u001b[0;34m\u001b[0m\u001b[0m\n\u001b[0;32m---> 88\u001b[0;31m                 \u001b[0mnext\u001b[0m\u001b[0;34m(\u001b[0m\u001b[0mself\u001b[0m\u001b[0;34m.\u001b[0m\u001b[0mgen\u001b[0m\u001b[0;34m)\u001b[0m\u001b[0;34m\u001b[0m\u001b[0;34m\u001b[0m\u001b[0m\n\u001b[0m\u001b[1;32m     89\u001b[0m             \u001b[0;32mexcept\u001b[0m \u001b[0mStopIteration\u001b[0m\u001b[0;34m:\u001b[0m\u001b[0;34m\u001b[0m\u001b[0;34m\u001b[0m\u001b[0m\n\u001b[1;32m     90\u001b[0m                 \u001b[0;32mreturn\u001b[0m \u001b[0;32mFalse\u001b[0m\u001b[0;34m\u001b[0m\u001b[0;34m\u001b[0m\u001b[0m\n",
            "\u001b[0;32m/usr/local/lib/python3.6/dist-packages/google/colab/_system_commands.py\u001b[0m in \u001b[0;36m_display_stdin_widget\u001b[0;34m(delay_millis)\u001b[0m\n\u001b[1;32m    353\u001b[0m \u001b[0;34m\u001b[0m\u001b[0m\n\u001b[1;32m    354\u001b[0m   \u001b[0mhide_args\u001b[0m \u001b[0;34m=\u001b[0m \u001b[0;34m[\u001b[0m\u001b[0;34m'cell_remove_stdin'\u001b[0m\u001b[0;34m,\u001b[0m \u001b[0;34m{\u001b[0m\u001b[0;34m}\u001b[0m\u001b[0;34m]\u001b[0m\u001b[0;34m\u001b[0m\u001b[0;34m\u001b[0m\u001b[0m\n\u001b[0;32m--> 355\u001b[0;31m   \u001b[0m_message\u001b[0m\u001b[0;34m.\u001b[0m\u001b[0mblocking_request\u001b[0m\u001b[0;34m(\u001b[0m\u001b[0;34m*\u001b[0m\u001b[0mhide_args\u001b[0m\u001b[0;34m,\u001b[0m \u001b[0mparent\u001b[0m\u001b[0;34m=\u001b[0m\u001b[0mshell\u001b[0m\u001b[0;34m.\u001b[0m\u001b[0mparent_header\u001b[0m\u001b[0;34m)\u001b[0m\u001b[0;34m\u001b[0m\u001b[0;34m\u001b[0m\u001b[0m\n\u001b[0m\u001b[1;32m    356\u001b[0m \u001b[0;34m\u001b[0m\u001b[0m\n\u001b[1;32m    357\u001b[0m \u001b[0;34m\u001b[0m\u001b[0m\n",
            "\u001b[0;32m/usr/local/lib/python3.6/dist-packages/google/colab/_message.py\u001b[0m in \u001b[0;36mblocking_request\u001b[0;34m(request_type, request, timeout_sec, parent)\u001b[0m\n\u001b[1;32m    169\u001b[0m   \u001b[0;31m# unique.\u001b[0m\u001b[0;34m\u001b[0m\u001b[0;34m\u001b[0m\u001b[0;34m\u001b[0m\u001b[0m\n\u001b[1;32m    170\u001b[0m   \u001b[0mrequest_id\u001b[0m \u001b[0;34m=\u001b[0m \u001b[0msend_request\u001b[0m\u001b[0;34m(\u001b[0m\u001b[0mrequest_type\u001b[0m\u001b[0;34m,\u001b[0m \u001b[0mrequest\u001b[0m\u001b[0;34m,\u001b[0m \u001b[0mparent\u001b[0m\u001b[0;34m=\u001b[0m\u001b[0mparent\u001b[0m\u001b[0;34m)\u001b[0m\u001b[0;34m\u001b[0m\u001b[0;34m\u001b[0m\u001b[0m\n\u001b[0;32m--> 171\u001b[0;31m   \u001b[0;32mreturn\u001b[0m \u001b[0mread_reply_from_input\u001b[0m\u001b[0;34m(\u001b[0m\u001b[0mrequest_id\u001b[0m\u001b[0;34m,\u001b[0m \u001b[0mtimeout_sec\u001b[0m\u001b[0;34m)\u001b[0m\u001b[0;34m\u001b[0m\u001b[0;34m\u001b[0m\u001b[0m\n\u001b[0m",
            "\u001b[0;32m/usr/local/lib/python3.6/dist-packages/google/colab/_message.py\u001b[0m in \u001b[0;36mread_reply_from_input\u001b[0;34m(message_id, timeout_sec)\u001b[0m\n\u001b[1;32m     99\u001b[0m     \u001b[0mreply\u001b[0m \u001b[0;34m=\u001b[0m \u001b[0m_read_next_input_message\u001b[0m\u001b[0;34m(\u001b[0m\u001b[0;34m)\u001b[0m\u001b[0;34m\u001b[0m\u001b[0;34m\u001b[0m\u001b[0m\n\u001b[1;32m    100\u001b[0m     \u001b[0;32mif\u001b[0m \u001b[0mreply\u001b[0m \u001b[0;34m==\u001b[0m \u001b[0m_NOT_READY\u001b[0m \u001b[0;32mor\u001b[0m \u001b[0;32mnot\u001b[0m \u001b[0misinstance\u001b[0m\u001b[0;34m(\u001b[0m\u001b[0mreply\u001b[0m\u001b[0;34m,\u001b[0m \u001b[0mdict\u001b[0m\u001b[0;34m)\u001b[0m\u001b[0;34m:\u001b[0m\u001b[0;34m\u001b[0m\u001b[0;34m\u001b[0m\u001b[0m\n\u001b[0;32m--> 101\u001b[0;31m       \u001b[0mtime\u001b[0m\u001b[0;34m.\u001b[0m\u001b[0msleep\u001b[0m\u001b[0;34m(\u001b[0m\u001b[0;36m0.025\u001b[0m\u001b[0;34m)\u001b[0m\u001b[0;34m\u001b[0m\u001b[0;34m\u001b[0m\u001b[0m\n\u001b[0m\u001b[1;32m    102\u001b[0m       \u001b[0;32mcontinue\u001b[0m\u001b[0;34m\u001b[0m\u001b[0;34m\u001b[0m\u001b[0m\n\u001b[1;32m    103\u001b[0m     if (reply.get('type') == 'colab_reply' and\n",
            "\u001b[0;31mKeyboardInterrupt\u001b[0m: "
          ]
        }
      ]
    },
    {
      "cell_type": "code",
      "metadata": {
        "id": "Avbqs1qSy0T_",
        "colab_type": "code",
        "colab": {}
      },
      "source": [
        "\n",
        "# %cd \"{PROJECT_PATH}\"    # Change directory to the location defined in project_path\n",
        "# !git clone \"{GIT_PATH}\" "
      ],
      "execution_count": null,
      "outputs": []
    },
    {
      "cell_type": "markdown",
      "metadata": {
        "id": "vrKXhR-MBcyS",
        "colab_type": "text"
      },
      "source": [
        "Code Starts Here"
      ]
    },
    {
      "cell_type": "code",
      "metadata": {
        "id": "PfzBCBZRzdL8",
        "colab_type": "code",
        "colab": {
          "base_uri": "https://localhost:8080/",
          "height": 34
        },
        "outputId": "ef1b53d0-a953-4d8a-afc9-ca536bbb2fac"
      },
      "source": [
        "!pwd"
      ],
      "execution_count": null,
      "outputs": [
        {
          "output_type": "stream",
          "text": [
            "/content/drive/My Drive/Repo/Attention\n"
          ],
          "name": "stdout"
        }
      ]
    },
    {
      "cell_type": "code",
      "metadata": {
        "id": "32yicTBuB6Q6",
        "colab_type": "code",
        "colab": {
          "base_uri": "https://localhost:8080/",
          "height": 34
        },
        "outputId": "e2365396-7dea-447d-fa55-3f183672b73c"
      },
      "source": [
        "cd AttentionGAN"
      ],
      "execution_count": null,
      "outputs": [
        {
          "output_type": "stream",
          "text": [
            "/content/drive/My Drive/Repo/Attention/AttentionGAN\n"
          ],
          "name": "stdout"
        }
      ]
    },
    {
      "cell_type": "code",
      "metadata": {
        "id": "PPMkrtBuCJ57",
        "colab_type": "code",
        "colab": {
          "base_uri": "https://localhost:8080/",
          "height": 34
        },
        "outputId": "b701dbf2-79e4-418f-a181-24e67f4b5ab7"
      },
      "source": [
        "!pwd"
      ],
      "execution_count": null,
      "outputs": [
        {
          "output_type": "stream",
          "text": [
            "/content/drive/My Drive/Repo/Attention/AttentionGAN\n"
          ],
          "name": "stdout"
        }
      ]
    },
    {
      "cell_type": "code",
      "metadata": {
        "id": "6jH-0sRSCMje",
        "colab_type": "code",
        "colab": {
          "base_uri": "https://localhost:8080/",
          "height": 344
        },
        "outputId": "4e27e28e-1576-41f3-a0ad-9f12b501456e"
      },
      "source": [
        "# !sh ./datasets/download_cyclegan_dataset.sh \"horse2zebra\"\n"
      ],
      "execution_count": null,
      "outputs": [
        {
          "output_type": "error",
          "ename": "KeyboardInterrupt",
          "evalue": "ignored",
          "traceback": [
            "\u001b[0;31m---------------------------------------------------------------------------\u001b[0m",
            "\u001b[0;31mKeyboardInterrupt\u001b[0m                         Traceback (most recent call last)",
            "\u001b[0;32m<ipython-input-12-0fcf947f3b7e>\u001b[0m in \u001b[0;36m<module>\u001b[0;34m()\u001b[0m\n\u001b[0;32m----> 1\u001b[0;31m \u001b[0mget_ipython\u001b[0m\u001b[0;34m(\u001b[0m\u001b[0;34m)\u001b[0m\u001b[0;34m.\u001b[0m\u001b[0msystem\u001b[0m\u001b[0;34m(\u001b[0m\u001b[0;34m'sh ./datasets/download_cyclegan_dataset.sh \"horse2zebra\"'\u001b[0m\u001b[0;34m)\u001b[0m\u001b[0;34m\u001b[0m\u001b[0;34m\u001b[0m\u001b[0m\n\u001b[0m",
            "\u001b[0;32m/usr/local/lib/python3.6/dist-packages/google/colab/_shell.py\u001b[0m in \u001b[0;36msystem\u001b[0;34m(self, *args, **kwargs)\u001b[0m\n\u001b[1;32m    100\u001b[0m       \u001b[0mkwargs\u001b[0m\u001b[0;34m.\u001b[0m\u001b[0mupdate\u001b[0m\u001b[0;34m(\u001b[0m\u001b[0;34m{\u001b[0m\u001b[0;34m'also_return_output'\u001b[0m\u001b[0;34m:\u001b[0m \u001b[0;32mTrue\u001b[0m\u001b[0;34m}\u001b[0m\u001b[0;34m)\u001b[0m\u001b[0;34m\u001b[0m\u001b[0;34m\u001b[0m\u001b[0m\n\u001b[1;32m    101\u001b[0m \u001b[0;34m\u001b[0m\u001b[0m\n\u001b[0;32m--> 102\u001b[0;31m     \u001b[0moutput\u001b[0m \u001b[0;34m=\u001b[0m \u001b[0m_system_commands\u001b[0m\u001b[0;34m.\u001b[0m\u001b[0m_system_compat\u001b[0m\u001b[0;34m(\u001b[0m\u001b[0mself\u001b[0m\u001b[0;34m,\u001b[0m \u001b[0;34m*\u001b[0m\u001b[0margs\u001b[0m\u001b[0;34m,\u001b[0m \u001b[0;34m**\u001b[0m\u001b[0mkwargs\u001b[0m\u001b[0;34m)\u001b[0m  \u001b[0;31m# pylint:disable=protected-access\u001b[0m\u001b[0;34m\u001b[0m\u001b[0;34m\u001b[0m\u001b[0m\n\u001b[0m\u001b[1;32m    103\u001b[0m \u001b[0;34m\u001b[0m\u001b[0m\n\u001b[1;32m    104\u001b[0m     \u001b[0;32mif\u001b[0m \u001b[0mpip_warn\u001b[0m\u001b[0;34m:\u001b[0m\u001b[0;34m\u001b[0m\u001b[0;34m\u001b[0m\u001b[0m\n",
            "\u001b[0;32m/usr/local/lib/python3.6/dist-packages/google/colab/_system_commands.py\u001b[0m in \u001b[0;36m_system_compat\u001b[0;34m(shell, cmd, also_return_output)\u001b[0m\n\u001b[1;32m    436\u001b[0m   \u001b[0;31m# stack.\u001b[0m\u001b[0;34m\u001b[0m\u001b[0;34m\u001b[0m\u001b[0;34m\u001b[0m\u001b[0m\n\u001b[1;32m    437\u001b[0m   result = _run_command(\n\u001b[0;32m--> 438\u001b[0;31m       shell.var_expand(cmd, depth=2), clear_streamed_output=False)\n\u001b[0m\u001b[1;32m    439\u001b[0m   \u001b[0mshell\u001b[0m\u001b[0;34m.\u001b[0m\u001b[0muser_ns\u001b[0m\u001b[0;34m[\u001b[0m\u001b[0;34m'_exit_code'\u001b[0m\u001b[0;34m]\u001b[0m \u001b[0;34m=\u001b[0m \u001b[0mresult\u001b[0m\u001b[0;34m.\u001b[0m\u001b[0mreturncode\u001b[0m\u001b[0;34m\u001b[0m\u001b[0;34m\u001b[0m\u001b[0m\n\u001b[1;32m    440\u001b[0m   \u001b[0;32mif\u001b[0m \u001b[0;34m-\u001b[0m\u001b[0mresult\u001b[0m\u001b[0;34m.\u001b[0m\u001b[0mreturncode\u001b[0m \u001b[0;32min\u001b[0m \u001b[0m_INTERRUPTED_SIGNALS\u001b[0m\u001b[0;34m:\u001b[0m\u001b[0;34m\u001b[0m\u001b[0;34m\u001b[0m\u001b[0m\n",
            "\u001b[0;32m/usr/local/lib/python3.6/dist-packages/google/colab/_system_commands.py\u001b[0m in \u001b[0;36m_run_command\u001b[0;34m(cmd, clear_streamed_output)\u001b[0m\n\u001b[1;32m    179\u001b[0m \u001b[0;34m\u001b[0m\u001b[0m\n\u001b[1;32m    180\u001b[0m     with temporary_clearer(), _display_stdin_widget(\n\u001b[0;32m--> 181\u001b[0;31m         delay_millis=500) as update_stdin_widget:\n\u001b[0m\u001b[1;32m    182\u001b[0m       \u001b[0;31m# TODO(b/115531839): Ensure that subprocesses are terminated upon\u001b[0m\u001b[0;34m\u001b[0m\u001b[0;34m\u001b[0m\u001b[0;34m\u001b[0m\u001b[0m\n\u001b[1;32m    183\u001b[0m       \u001b[0;31m# interrupt.\u001b[0m\u001b[0;34m\u001b[0m\u001b[0;34m\u001b[0m\u001b[0;34m\u001b[0m\u001b[0m\n",
            "\u001b[0;32m/usr/lib/python3.6/contextlib.py\u001b[0m in \u001b[0;36m__enter__\u001b[0;34m(self)\u001b[0m\n\u001b[1;32m     79\u001b[0m     \u001b[0;32mdef\u001b[0m \u001b[0m__enter__\u001b[0m\u001b[0;34m(\u001b[0m\u001b[0mself\u001b[0m\u001b[0;34m)\u001b[0m\u001b[0;34m:\u001b[0m\u001b[0;34m\u001b[0m\u001b[0;34m\u001b[0m\u001b[0m\n\u001b[1;32m     80\u001b[0m         \u001b[0;32mtry\u001b[0m\u001b[0;34m:\u001b[0m\u001b[0;34m\u001b[0m\u001b[0;34m\u001b[0m\u001b[0m\n\u001b[0;32m---> 81\u001b[0;31m             \u001b[0;32mreturn\u001b[0m \u001b[0mnext\u001b[0m\u001b[0;34m(\u001b[0m\u001b[0mself\u001b[0m\u001b[0;34m.\u001b[0m\u001b[0mgen\u001b[0m\u001b[0;34m)\u001b[0m\u001b[0;34m\u001b[0m\u001b[0;34m\u001b[0m\u001b[0m\n\u001b[0m\u001b[1;32m     82\u001b[0m         \u001b[0;32mexcept\u001b[0m \u001b[0mStopIteration\u001b[0m\u001b[0;34m:\u001b[0m\u001b[0;34m\u001b[0m\u001b[0;34m\u001b[0m\u001b[0m\n\u001b[1;32m     83\u001b[0m             \u001b[0;32mraise\u001b[0m \u001b[0mRuntimeError\u001b[0m\u001b[0;34m(\u001b[0m\u001b[0;34m\"generator didn't yield\"\u001b[0m\u001b[0;34m)\u001b[0m \u001b[0;32mfrom\u001b[0m \u001b[0;32mNone\u001b[0m\u001b[0;34m\u001b[0m\u001b[0;34m\u001b[0m\u001b[0m\n",
            "\u001b[0;32m/usr/local/lib/python3.6/dist-packages/google/colab/_system_commands.py\u001b[0m in \u001b[0;36m_display_stdin_widget\u001b[0;34m(delay_millis)\u001b[0m\n\u001b[1;32m    339\u001b[0m   \u001b[0mshell\u001b[0m \u001b[0;34m=\u001b[0m \u001b[0m_ipython\u001b[0m\u001b[0;34m.\u001b[0m\u001b[0mget_ipython\u001b[0m\u001b[0;34m(\u001b[0m\u001b[0;34m)\u001b[0m\u001b[0;34m\u001b[0m\u001b[0;34m\u001b[0m\u001b[0m\n\u001b[1;32m    340\u001b[0m   \u001b[0mdisplay_args\u001b[0m \u001b[0;34m=\u001b[0m \u001b[0;34m[\u001b[0m\u001b[0;34m'cell_display_stdin'\u001b[0m\u001b[0;34m,\u001b[0m \u001b[0;34m{\u001b[0m\u001b[0;34m'delayMillis'\u001b[0m\u001b[0;34m:\u001b[0m \u001b[0mdelay_millis\u001b[0m\u001b[0;34m}\u001b[0m\u001b[0;34m]\u001b[0m\u001b[0;34m\u001b[0m\u001b[0;34m\u001b[0m\u001b[0m\n\u001b[0;32m--> 341\u001b[0;31m   \u001b[0m_message\u001b[0m\u001b[0;34m.\u001b[0m\u001b[0mblocking_request\u001b[0m\u001b[0;34m(\u001b[0m\u001b[0;34m*\u001b[0m\u001b[0mdisplay_args\u001b[0m\u001b[0;34m,\u001b[0m \u001b[0mparent\u001b[0m\u001b[0;34m=\u001b[0m\u001b[0mshell\u001b[0m\u001b[0;34m.\u001b[0m\u001b[0mparent_header\u001b[0m\u001b[0;34m)\u001b[0m\u001b[0;34m\u001b[0m\u001b[0;34m\u001b[0m\u001b[0m\n\u001b[0m\u001b[1;32m    342\u001b[0m \u001b[0;34m\u001b[0m\u001b[0m\n\u001b[1;32m    343\u001b[0m   \u001b[0;32mdef\u001b[0m \u001b[0mecho_updater\u001b[0m\u001b[0;34m(\u001b[0m\u001b[0mnew_echo_status\u001b[0m\u001b[0;34m)\u001b[0m\u001b[0;34m:\u001b[0m\u001b[0;34m\u001b[0m\u001b[0;34m\u001b[0m\u001b[0m\n",
            "\u001b[0;32m/usr/local/lib/python3.6/dist-packages/google/colab/_message.py\u001b[0m in \u001b[0;36mblocking_request\u001b[0;34m(request_type, request, timeout_sec, parent)\u001b[0m\n\u001b[1;32m    169\u001b[0m   \u001b[0;31m# unique.\u001b[0m\u001b[0;34m\u001b[0m\u001b[0;34m\u001b[0m\u001b[0;34m\u001b[0m\u001b[0m\n\u001b[1;32m    170\u001b[0m   \u001b[0mrequest_id\u001b[0m \u001b[0;34m=\u001b[0m \u001b[0msend_request\u001b[0m\u001b[0;34m(\u001b[0m\u001b[0mrequest_type\u001b[0m\u001b[0;34m,\u001b[0m \u001b[0mrequest\u001b[0m\u001b[0;34m,\u001b[0m \u001b[0mparent\u001b[0m\u001b[0;34m=\u001b[0m\u001b[0mparent\u001b[0m\u001b[0;34m)\u001b[0m\u001b[0;34m\u001b[0m\u001b[0;34m\u001b[0m\u001b[0m\n\u001b[0;32m--> 171\u001b[0;31m   \u001b[0;32mreturn\u001b[0m \u001b[0mread_reply_from_input\u001b[0m\u001b[0;34m(\u001b[0m\u001b[0mrequest_id\u001b[0m\u001b[0;34m,\u001b[0m \u001b[0mtimeout_sec\u001b[0m\u001b[0;34m)\u001b[0m\u001b[0;34m\u001b[0m\u001b[0;34m\u001b[0m\u001b[0m\n\u001b[0m",
            "\u001b[0;32m/usr/local/lib/python3.6/dist-packages/google/colab/_message.py\u001b[0m in \u001b[0;36mread_reply_from_input\u001b[0;34m(message_id, timeout_sec)\u001b[0m\n\u001b[1;32m     99\u001b[0m     \u001b[0mreply\u001b[0m \u001b[0;34m=\u001b[0m \u001b[0m_read_next_input_message\u001b[0m\u001b[0;34m(\u001b[0m\u001b[0;34m)\u001b[0m\u001b[0;34m\u001b[0m\u001b[0;34m\u001b[0m\u001b[0m\n\u001b[1;32m    100\u001b[0m     \u001b[0;32mif\u001b[0m \u001b[0mreply\u001b[0m \u001b[0;34m==\u001b[0m \u001b[0m_NOT_READY\u001b[0m \u001b[0;32mor\u001b[0m \u001b[0;32mnot\u001b[0m \u001b[0misinstance\u001b[0m\u001b[0;34m(\u001b[0m\u001b[0mreply\u001b[0m\u001b[0;34m,\u001b[0m \u001b[0mdict\u001b[0m\u001b[0;34m)\u001b[0m\u001b[0;34m:\u001b[0m\u001b[0;34m\u001b[0m\u001b[0;34m\u001b[0m\u001b[0m\n\u001b[0;32m--> 101\u001b[0;31m       \u001b[0mtime\u001b[0m\u001b[0;34m.\u001b[0m\u001b[0msleep\u001b[0m\u001b[0;34m(\u001b[0m\u001b[0;36m0.025\u001b[0m\u001b[0;34m)\u001b[0m\u001b[0;34m\u001b[0m\u001b[0;34m\u001b[0m\u001b[0m\n\u001b[0m\u001b[1;32m    102\u001b[0m       \u001b[0;32mcontinue\u001b[0m\u001b[0;34m\u001b[0m\u001b[0;34m\u001b[0m\u001b[0m\n\u001b[1;32m    103\u001b[0m     if (reply.get('type') == 'colab_reply' and\n",
            "\u001b[0;31mKeyboardInterrupt\u001b[0m: "
          ]
        }
      ]
    },
    {
      "cell_type": "code",
      "metadata": {
        "id": "od4_-jDTOAdG",
        "colab_type": "code",
        "colab": {
          "base_uri": "https://localhost:8080/",
          "height": 34
        },
        "outputId": "8aad281c-3069-4d2b-e4f3-9afa76ca093a"
      },
      "source": [
        "pip install dominate"
      ],
      "execution_count": null,
      "outputs": [
        {
          "output_type": "stream",
          "text": [
            "Requirement already satisfied: dominate in /usr/local/lib/python3.6/dist-packages (2.5.1)\n"
          ],
          "name": "stdout"
        }
      ]
    },
    {
      "cell_type": "code",
      "metadata": {
        "id": "SE9_5uqEOAYz",
        "colab_type": "code",
        "colab": {
          "base_uri": "https://localhost:8080/",
          "height": 52
        },
        "outputId": "29ede156-56a9-4cb5-f433-9c7ac05f8f73"
      },
      "source": [
        "pip install scipy==1.1.0 --user"
      ],
      "execution_count": null,
      "outputs": [
        {
          "output_type": "stream",
          "text": [
            "Requirement already satisfied: scipy==1.1.0 in /root/.local/lib/python3.6/site-packages (1.1.0)\n",
            "Requirement already satisfied: numpy>=1.8.2 in /usr/local/lib/python3.6/dist-packages (from scipy==1.1.0) (1.18.5)\n"
          ],
          "name": "stdout"
        }
      ]
    },
    {
      "cell_type": "code",
      "metadata": {
        "id": "Pq892mSpCrc8",
        "colab_type": "code",
        "colab": {
          "base_uri": "https://localhost:8080/",
          "height": 1000
        },
        "outputId": "37953b04-2753-4c3b-ef11-59aac8e8b9de"
      },
      "source": [
        "!sh ./scripts/train_attentiongan.sh"
      ],
      "execution_count": null,
      "outputs": [
        {
          "output_type": "stream",
          "text": [
            "+ python train.py --dataroot ./datasets/horse2zebra --name horse2zebra_attentiongan --model attention_gan --dataset_mode unaligned --pool_size 50 --no_dropout --norm instance --lambda_A 10 --lambda_B 10 --lambda_identity 0.5 --load_size 286 --crop_size 256 --batch_size 4 --niter 60 --niter_decay 0 --gpu_ids 0 --display_id 0 --display_freq 100 --print_freq 100\n",
            "----------------- Options ---------------\n",
            "               batch_size: 4                             \t[default: 1]\n",
            "                    beta1: 0.5                           \n",
            "          checkpoints_dir: ./checkpoints                 \n",
            "           continue_train: False                         \n",
            "                crop_size: 256                           \n",
            "                 dataroot: ./datasets/horse2zebra        \t[default: None]\n",
            "             dataset_mode: unaligned                     \n",
            "                direction: AtoB                          \n",
            "              display_env: main                          \n",
            "             display_freq: 100                           \t[default: 400]\n",
            "               display_id: 0                             \t[default: 1]\n",
            "            display_ncols: 10                            \n",
            "             display_port: 8097                          \n",
            "           display_server: http://localhost              \n",
            "          display_winsize: 256                           \n",
            "                    epoch: latest                        \n",
            "              epoch_count: 1                             \n",
            "                 gan_mode: lsgan                         \n",
            "                  gpu_ids: 0                             \n",
            "                init_gain: 0.02                          \n",
            "                init_type: normal                        \n",
            "                 input_nc: 3                             \n",
            "                  isTrain: True                          \t[default: None]\n",
            "                 lambda_A: 10.0                          \n",
            "                 lambda_B: 10.0                          \n",
            "          lambda_identity: 0.5                           \n",
            "                load_iter: 0                             \t[default: 0]\n",
            "                load_size: 286                           \n",
            "                       lr: 0.0002                        \n",
            "           lr_decay_iters: 50                            \n",
            "                lr_policy: linear                        \n",
            "         max_dataset_size: inf                           \n",
            "                    model: attention_gan                 \t[default: cycle_gan]\n",
            "               n_layers_D: 3                             \n",
            "                     name: horse2zebra_attentiongan      \t[default: experiment_name]\n",
            "                      ndf: 64                            \n",
            "                     netD: basic                         \n",
            "                     netG: resnet_9blocks                \n",
            "                      ngf: 64                            \n",
            "                    niter: 60                            \t[default: 100]\n",
            "              niter_decay: 0                             \t[default: 100]\n",
            "               no_dropout: True                          \n",
            "                  no_flip: False                         \n",
            "                  no_html: False                         \n",
            "                     norm: instance                      \n",
            "              num_threads: 4                             \n",
            "                output_nc: 3                             \n",
            "                    phase: train                         \n",
            "                pool_size: 50                            \n",
            "               preprocess: resize_and_crop               \n",
            "               print_freq: 100                           \n",
            "                 saveDisk: False                         \n",
            "             save_by_iter: False                         \n",
            "          save_epoch_freq: 5                             \n",
            "         save_latest_freq: 5000                          \n",
            "           serial_batches: False                         \n",
            "                   suffix:                               \n",
            "         update_html_freq: 1000                          \n",
            "                  verbose: False                         \n",
            "----------------- End -------------------\n",
            "dataset [UnalignedDataset] was created\n",
            "The number of training images = 1334\n",
            "initialize network with normal\n",
            "initialize network with normal\n",
            "initialize network with normal\n",
            "initialize network with normal\n",
            "model [AttentionGANModel] was created\n",
            "---------- Networks initialized -------------\n",
            "[Network G_A] Total number of parameters : 11.823 M\n",
            "[Network G_B] Total number of parameters : 11.823 M\n",
            "[Network D_A] Total number of parameters : 2.765 M\n",
            "[Network D_B] Total number of parameters : 2.765 M\n",
            "-----------------------------------------------\n",
            "create web directory ./checkpoints/horse2zebra_attentiongan/web...\n",
            "(epoch: 1, iters: 100, time: 1.374, data: 4.272) D_A: 0.949 G_A: 0.992 cycle_A: 2.448 idt_A: 1.147 D_B: 0.636 G_B: 0.474 cycle_B: 2.617 idt_B: 1.015 \n",
            "(epoch: 1, iters: 200, time: 1.073, data: 0.003) D_A: 0.435 G_A: 0.434 cycle_A: 1.776 idt_A: 0.984 D_B: 0.391 G_B: 0.333 cycle_B: 2.261 idt_B: 0.750 \n",
            "(epoch: 1, iters: 300, time: 1.078, data: 0.002) D_A: 0.487 G_A: 0.464 cycle_A: 3.086 idt_A: 1.146 D_B: 0.297 G_B: 0.340 cycle_B: 2.662 idt_B: 1.326 \n",
            "(epoch: 1, iters: 400, time: 1.037, data: 0.002) D_A: 0.356 G_A: 0.346 cycle_A: 2.080 idt_A: 1.351 D_B: 0.368 G_B: 0.427 cycle_B: 3.267 idt_B: 0.875 \n",
            "(epoch: 1, iters: 500, time: 1.050, data: 0.002) D_A: 0.306 G_A: 0.320 cycle_A: 1.936 idt_A: 1.134 D_B: 0.283 G_B: 0.310 cycle_B: 2.718 idt_B: 0.668 \n",
            "(epoch: 1, iters: 600, time: 1.020, data: 0.002) D_A: 0.284 G_A: 0.380 cycle_A: 1.948 idt_A: 0.781 D_B: 0.357 G_B: 0.424 cycle_B: 1.798 idt_B: 0.702 \n",
            "(epoch: 1, iters: 700, time: 1.050, data: 0.002) D_A: 0.295 G_A: 0.416 cycle_A: 1.669 idt_A: 0.892 D_B: 0.258 G_B: 0.292 cycle_B: 1.792 idt_B: 0.721 \n",
            "(epoch: 1, iters: 800, time: 1.028, data: 0.003) D_A: 0.264 G_A: 0.412 cycle_A: 1.361 idt_A: 0.619 D_B: 0.235 G_B: 0.311 cycle_B: 1.381 idt_B: 0.703 \n",
            "(epoch: 1, iters: 900, time: 1.017, data: 0.003) D_A: 0.267 G_A: 0.409 cycle_A: 1.075 idt_A: 0.929 D_B: 0.250 G_B: 0.284 cycle_B: 1.783 idt_B: 0.474 \n",
            "(epoch: 1, iters: 1000, time: 1.052, data: 0.004) D_A: 0.308 G_A: 0.303 cycle_A: 1.106 idt_A: 0.497 D_B: 0.308 G_B: 0.260 cycle_B: 1.151 idt_B: 0.483 \n",
            "(epoch: 1, iters: 1100, time: 0.988, data: 0.002) D_A: 0.256 G_A: 0.278 cycle_A: 0.686 idt_A: 0.577 D_B: 0.284 G_B: 0.459 cycle_B: 1.131 idt_B: 0.341 \n",
            "(epoch: 1, iters: 1200, time: 0.979, data: 0.002) D_A: 0.206 G_A: 0.368 cycle_A: 0.878 idt_A: 0.467 D_B: 0.227 G_B: 0.368 cycle_B: 0.887 idt_B: 0.402 \n",
            "(epoch: 1, iters: 1300, time: 0.991, data: 0.003) D_A: 0.302 G_A: 0.387 cycle_A: 0.760 idt_A: 0.434 D_B: 0.269 G_B: 0.296 cycle_B: 0.780 idt_B: 0.425 \n",
            "End of epoch 1 / 60 \t Time Taken: 801 sec\n",
            "learning rate = 0.0002000\n",
            "(epoch: 2, iters: 64, time: 0.998, data: 0.002) D_A: 0.287 G_A: 0.327 cycle_A: 0.963 idt_A: 0.349 D_B: 0.270 G_B: 0.361 cycle_B: 0.785 idt_B: 0.520 \n",
            "(epoch: 2, iters: 164, time: 1.010, data: 0.002) D_A: 0.316 G_A: 0.301 cycle_A: 1.026 idt_A: 0.430 D_B: 0.363 G_B: 0.386 cycle_B: 0.904 idt_B: 0.509 \n",
            "(epoch: 2, iters: 264, time: 0.989, data: 0.003) D_A: 0.242 G_A: 0.311 cycle_A: 0.733 idt_A: 0.413 D_B: 0.261 G_B: 0.516 cycle_B: 0.747 idt_B: 0.400 \n",
            "(epoch: 2, iters: 364, time: 0.994, data: 0.003) D_A: 0.226 G_A: 0.260 cycle_A: 0.563 idt_A: 0.472 D_B: 0.214 G_B: 0.384 cycle_B: 0.822 idt_B: 0.302 \n",
            "(epoch: 2, iters: 464, time: 0.967, data: 0.003) D_A: 0.268 G_A: 0.226 cycle_A: 0.521 idt_A: 0.399 D_B: 0.301 G_B: 0.368 cycle_B: 0.668 idt_B: 0.285 \n",
            "(epoch: 2, iters: 564, time: 0.983, data: 0.003) D_A: 0.235 G_A: 0.412 cycle_A: 0.670 idt_A: 0.452 D_B: 0.246 G_B: 0.329 cycle_B: 0.869 idt_B: 0.308 \n",
            "(epoch: 2, iters: 664, time: 0.962, data: 0.002) D_A: 0.305 G_A: 0.400 cycle_A: 0.810 idt_A: 0.424 D_B: 0.367 G_B: 0.462 cycle_B: 0.856 idt_B: 0.437 \n",
            "(epoch: 2, iters: 764, time: 0.977, data: 0.003) D_A: 0.242 G_A: 0.497 cycle_A: 0.743 idt_A: 0.359 D_B: 0.212 G_B: 0.301 cycle_B: 0.771 idt_B: 0.367 \n",
            "(epoch: 2, iters: 864, time: 0.969, data: 0.002) D_A: 0.215 G_A: 0.374 cycle_A: 0.662 idt_A: 0.344 D_B: 0.279 G_B: 0.326 cycle_B: 0.643 idt_B: 0.310 \n",
            "(epoch: 2, iters: 964, time: 0.989, data: 0.002) D_A: 0.229 G_A: 0.402 cycle_A: 0.731 idt_A: 0.349 D_B: 0.278 G_B: 0.284 cycle_B: 0.743 idt_B: 0.382 \n",
            "(epoch: 2, iters: 1064, time: 0.987, data: 0.003) D_A: 0.252 G_A: 0.374 cycle_A: 0.493 idt_A: 0.250 D_B: 0.253 G_B: 0.273 cycle_B: 0.633 idt_B: 0.251 \n",
            "(epoch: 2, iters: 1164, time: 0.981, data: 0.003) D_A: 0.287 G_A: 0.329 cycle_A: 0.614 idt_A: 0.417 D_B: 0.243 G_B: 0.403 cycle_B: 0.741 idt_B: 0.308 \n",
            "(epoch: 2, iters: 1264, time: 0.957, data: 0.003) D_A: 0.263 G_A: 0.310 cycle_A: 0.516 idt_A: 0.218 D_B: 0.237 G_B: 0.441 cycle_B: 0.499 idt_B: 0.259 \n",
            "End of epoch 2 / 60 \t Time Taken: 796 sec\n",
            "learning rate = 0.0002000\n",
            "(epoch: 3, iters: 28, time: 1.017, data: 0.002) D_A: 0.368 G_A: 0.394 cycle_A: 0.449 idt_A: 0.226 D_B: 0.194 G_B: 0.474 cycle_B: 0.389 idt_B: 0.249 \n",
            "(epoch: 3, iters: 128, time: 0.997, data: 0.001) D_A: 0.207 G_A: 0.267 cycle_A: 0.384 idt_A: 0.208 D_B: 0.282 G_B: 0.374 cycle_B: 0.408 idt_B: 0.178 \n",
            "(epoch: 3, iters: 228, time: 0.978, data: 0.002) D_A: 0.347 G_A: 0.538 cycle_A: 0.423 idt_A: 0.164 D_B: 0.200 G_B: 0.324 cycle_B: 0.366 idt_B: 0.202 \n",
            "(epoch: 3, iters: 328, time: 1.005, data: 0.002) D_A: 0.225 G_A: 0.513 cycle_A: 0.288 idt_A: 0.213 D_B: 0.236 G_B: 0.370 cycle_B: 0.342 idt_B: 0.146 \n",
            "(epoch: 3, iters: 428, time: 0.997, data: 0.002) D_A: 0.184 G_A: 0.244 cycle_A: 0.298 idt_A: 0.117 D_B: 0.237 G_B: 0.418 cycle_B: 0.270 idt_B: 0.136 \n",
            "(epoch: 3, iters: 528, time: 1.021, data: 0.003) D_A: 0.174 G_A: 0.706 cycle_A: 0.324 idt_A: 0.190 D_B: 0.222 G_B: 0.317 cycle_B: 0.447 idt_B: 0.152 \n",
            "(epoch: 3, iters: 628, time: 1.021, data: 0.002) D_A: 0.201 G_A: 0.264 cycle_A: 0.299 idt_A: 0.185 D_B: 0.363 G_B: 0.740 cycle_B: 0.312 idt_B: 0.121 \n",
            "(epoch: 3, iters: 728, time: 0.998, data: 0.003) D_A: 0.234 G_A: 0.537 cycle_A: 0.239 idt_A: 0.232 D_B: 0.284 G_B: 0.447 cycle_B: 0.353 idt_B: 0.101 \n",
            "(epoch: 3, iters: 828, time: 0.988, data: 0.003) D_A: 0.188 G_A: 0.485 cycle_A: 0.266 idt_A: 0.181 D_B: 0.192 G_B: 0.263 cycle_B: 0.360 idt_B: 0.101 \n",
            "(epoch: 3, iters: 928, time: 0.988, data: 0.003) D_A: 0.198 G_A: 0.329 cycle_A: 0.248 idt_A: 0.098 D_B: 0.203 G_B: 0.337 cycle_B: 0.230 idt_B: 0.089 \n",
            "(epoch: 3, iters: 1028, time: 0.994, data: 0.003) D_A: 0.169 G_A: 0.541 cycle_A: 0.195 idt_A: 0.102 D_B: 0.190 G_B: 0.554 cycle_B: 0.269 idt_B: 0.067 \n",
            "(epoch: 3, iters: 1128, time: 0.982, data: 0.003) D_A: 0.266 G_A: 0.445 cycle_A: 0.189 idt_A: 0.066 D_B: 0.231 G_B: 0.357 cycle_B: 0.189 idt_B: 0.086 \n",
            "(epoch: 3, iters: 1228, time: 1.022, data: 0.003) D_A: 0.179 G_A: 0.547 cycle_A: 0.130 idt_A: 0.055 D_B: 0.315 G_B: 0.319 cycle_B: 0.155 idt_B: 0.042 \n",
            "(epoch: 3, iters: 1328, time: 1.002, data: 0.003) D_A: 0.278 G_A: 0.636 cycle_A: 0.142 idt_A: 0.046 D_B: 0.190 G_B: 0.326 cycle_B: 0.142 idt_B: 0.047 \n",
            "End of epoch 3 / 60 \t Time Taken: 797 sec\n",
            "learning rate = 0.0002000\n",
            "(epoch: 4, iters: 92, time: 1.063, data: 0.003) D_A: 0.291 G_A: 0.363 cycle_A: 0.165 idt_A: 0.052 D_B: 0.244 G_B: 0.354 cycle_B: 0.158 idt_B: 0.056 \n",
            "(epoch: 4, iters: 192, time: 1.018, data: 0.002) D_A: 0.297 G_A: 0.594 cycle_A: 0.098 idt_A: 0.054 D_B: 0.358 G_B: 0.543 cycle_B: 0.112 idt_B: 0.023 \n",
            "(epoch: 4, iters: 292, time: 1.005, data: 0.002) D_A: 0.156 G_A: 0.519 cycle_A: 0.131 idt_A: 0.029 D_B: 0.229 G_B: 0.499 cycle_B: 0.121 idt_B: 0.033 \n",
            "(epoch: 4, iters: 392, time: 0.995, data: 0.002) D_A: 0.208 G_A: 0.420 cycle_A: 0.142 idt_A: 0.046 D_B: 0.273 G_B: 0.530 cycle_B: 0.134 idt_B: 0.019 \n",
            "(epoch: 4, iters: 492, time: 1.021, data: 0.003) D_A: 0.195 G_A: 0.339 cycle_A: 0.170 idt_A: 0.075 D_B: 0.299 G_B: 0.549 cycle_B: 0.177 idt_B: 0.030 \n",
            "(epoch: 4, iters: 592, time: 0.977, data: 0.002) D_A: 0.263 G_A: 0.630 cycle_A: 0.095 idt_A: 0.032 D_B: 0.239 G_B: 0.577 cycle_B: 0.120 idt_B: 0.026 \n",
            "(epoch: 4, iters: 692, time: 0.991, data: 0.003) D_A: 0.245 G_A: 0.635 cycle_A: 0.155 idt_A: 0.094 D_B: 0.189 G_B: 0.308 cycle_B: 0.245 idt_B: 0.023 \n",
            "(epoch: 4, iters: 792, time: 1.029, data: 0.003) D_A: 0.184 G_A: 0.330 cycle_A: 0.134 idt_A: 0.034 D_B: 0.289 G_B: 0.760 cycle_B: 0.157 idt_B: 0.019 \n",
            "(epoch: 4, iters: 892, time: 0.991, data: 0.002) D_A: 0.215 G_A: 0.445 cycle_A: 0.055 idt_A: 0.023 D_B: 0.282 G_B: 0.425 cycle_B: 0.088 idt_B: 0.015 \n",
            "(epoch: 4, iters: 992, time: 1.004, data: 0.003) D_A: 0.103 G_A: 0.485 cycle_A: 0.078 idt_A: 0.025 D_B: 0.129 G_B: 0.702 cycle_B: 0.172 idt_B: 0.019 \n",
            "saving the latest model (epoch 4, total_iters 5000)\n",
            "(epoch: 4, iters: 1092, time: 0.993, data: 0.002) D_A: 0.155 G_A: 0.298 cycle_A: 0.113 idt_A: 0.033 D_B: 0.204 G_B: 0.479 cycle_B: 0.220 idt_B: 0.032 \n",
            "(epoch: 4, iters: 1192, time: 0.982, data: 0.003) D_A: 0.230 G_A: 0.228 cycle_A: 0.096 idt_A: 0.040 D_B: 0.147 G_B: 0.410 cycle_B: 0.194 idt_B: 0.018 \n",
            "(epoch: 4, iters: 1292, time: 0.988, data: 0.002) D_A: 0.216 G_A: 0.259 cycle_A: 0.136 idt_A: 0.065 D_B: 0.149 G_B: 0.454 cycle_B: 0.257 idt_B: 0.017 \n",
            "End of epoch 4 / 60 \t Time Taken: 796 sec\n",
            "learning rate = 0.0002000\n",
            "(epoch: 5, iters: 56, time: 1.041, data: 0.003) D_A: 0.190 G_A: 0.369 cycle_A: 0.130 idt_A: 0.040 D_B: 0.113 G_B: 0.587 cycle_B: 0.319 idt_B: 0.021 \n",
            "(epoch: 5, iters: 156, time: 0.989, data: 0.003) D_A: 0.270 G_A: 0.196 cycle_A: 0.084 idt_A: 0.017 D_B: 0.282 G_B: 0.592 cycle_B: 0.426 idt_B: 0.026 \n",
            "(epoch: 5, iters: 256, time: 0.990, data: 0.002) D_A: 0.185 G_A: 0.516 cycle_A: 0.108 idt_A: 0.024 D_B: 0.167 G_B: 0.739 cycle_B: 0.138 idt_B: 0.018 \n",
            "(epoch: 5, iters: 356, time: 0.986, data: 0.002) D_A: 0.127 G_A: 0.292 cycle_A: 0.082 idt_A: 0.014 D_B: 0.171 G_B: 0.577 cycle_B: 0.219 idt_B: 0.018 \n",
            "(epoch: 5, iters: 456, time: 1.012, data: 0.002) D_A: 0.149 G_A: 0.468 cycle_A: 0.176 idt_A: 0.034 D_B: 0.105 G_B: 0.836 cycle_B: 0.190 idt_B: 0.034 \n",
            "(epoch: 5, iters: 556, time: 1.016, data: 0.003) D_A: 0.205 G_A: 0.333 cycle_A: 0.147 idt_A: 0.026 D_B: 0.144 G_B: 0.483 cycle_B: 0.115 idt_B: 0.013 \n",
            "(epoch: 5, iters: 656, time: 0.996, data: 0.003) D_A: 0.198 G_A: 0.301 cycle_A: 0.142 idt_A: 0.015 D_B: 0.287 G_B: 0.266 cycle_B: 0.184 idt_B: 0.044 \n",
            "(epoch: 5, iters: 756, time: 0.991, data: 0.002) D_A: 0.136 G_A: 0.448 cycle_A: 0.199 idt_A: 0.013 D_B: 0.160 G_B: 0.378 cycle_B: 0.390 idt_B: 0.032 \n",
            "(epoch: 5, iters: 856, time: 1.006, data: 0.003) D_A: 0.265 G_A: 0.271 cycle_A: 0.142 idt_A: 0.018 D_B: 0.177 G_B: 0.888 cycle_B: 0.221 idt_B: 0.013 \n",
            "(epoch: 5, iters: 956, time: 1.005, data: 0.003) D_A: 0.114 G_A: 0.536 cycle_A: 0.074 idt_A: 0.009 D_B: 0.187 G_B: 0.735 cycle_B: 0.348 idt_B: 0.027 \n",
            "(epoch: 5, iters: 1056, time: 0.990, data: 0.003) D_A: 0.192 G_A: 0.506 cycle_A: 0.094 idt_A: 0.038 D_B: 0.122 G_B: 0.160 cycle_B: 0.273 idt_B: 0.013 \n",
            "(epoch: 5, iters: 1156, time: 0.998, data: 0.003) D_A: 0.186 G_A: 0.766 cycle_A: 0.091 idt_A: 0.013 D_B: 0.162 G_B: 0.420 cycle_B: 0.177 idt_B: 0.009 \n",
            "(epoch: 5, iters: 1256, time: 0.997, data: 0.003) D_A: 0.124 G_A: 0.478 cycle_A: 0.131 idt_A: 0.021 D_B: 0.145 G_B: 0.348 cycle_B: 0.235 idt_B: 0.011 \n",
            "saving the model at the end of epoch 5, iters 6680\n",
            "End of epoch 5 / 60 \t Time Taken: 799 sec\n",
            "learning rate = 0.0002000\n",
            "(epoch: 6, iters: 20, time: 1.091, data: 0.002) D_A: 0.134 G_A: 0.599 cycle_A: 0.095 idt_A: 0.010 D_B: 0.279 G_B: 0.712 cycle_B: 0.324 idt_B: 0.015 \n",
            "(epoch: 6, iters: 120, time: 1.006, data: 0.001) D_A: 0.141 G_A: 0.525 cycle_A: 0.111 idt_A: 0.015 D_B: 0.101 G_B: 0.744 cycle_B: 0.245 idt_B: 0.011 \n",
            "(epoch: 6, iters: 220, time: 0.999, data: 0.002) D_A: 0.128 G_A: 0.567 cycle_A: 0.145 idt_A: 0.012 D_B: 0.102 G_B: 0.408 cycle_B: 0.275 idt_B: 0.020 \n",
            "(epoch: 6, iters: 320, time: 0.986, data: 0.003) D_A: 0.102 G_A: 0.787 cycle_A: 0.140 idt_A: 0.061 D_B: 0.180 G_B: 0.374 cycle_B: 0.349 idt_B: 0.007 \n",
            "(epoch: 6, iters: 420, time: 1.048, data: 0.003) D_A: 0.134 G_A: 0.414 cycle_A: 0.126 idt_A: 0.012 D_B: 0.154 G_B: 0.644 cycle_B: 0.282 idt_B: 0.036 \n",
            "(epoch: 6, iters: 520, time: 0.977, data: 0.003) D_A: 0.105 G_A: 0.544 cycle_A: 0.026 idt_A: 0.007 D_B: 0.169 G_B: 1.175 cycle_B: 0.030 idt_B: 0.007 \n",
            "(epoch: 6, iters: 620, time: 0.997, data: 0.002) D_A: 0.217 G_A: 0.276 cycle_A: 0.161 idt_A: 0.017 D_B: 0.182 G_B: 0.518 cycle_B: 0.165 idt_B: 0.017 \n",
            "(epoch: 6, iters: 720, time: 1.027, data: 0.002) D_A: 0.275 G_A: 0.307 cycle_A: 0.121 idt_A: 0.014 D_B: 0.198 G_B: 0.881 cycle_B: 0.214 idt_B: 0.011 \n",
            "(epoch: 6, iters: 820, time: 1.008, data: 0.002) D_A: 0.288 G_A: 0.355 cycle_A: 0.195 idt_A: 0.070 D_B: 0.222 G_B: 0.222 cycle_B: 0.237 idt_B: 0.010 \n",
            "(epoch: 6, iters: 920, time: 0.998, data: 0.003) D_A: 0.191 G_A: 0.494 cycle_A: 0.142 idt_A: 0.007 D_B: 0.260 G_B: 0.678 cycle_B: 0.310 idt_B: 0.029 \n",
            "(epoch: 6, iters: 1020, time: 0.996, data: 0.003) D_A: 0.233 G_A: 0.481 cycle_A: 0.089 idt_A: 0.009 D_B: 0.275 G_B: 0.463 cycle_B: 0.133 idt_B: 0.006 \n",
            "(epoch: 6, iters: 1120, time: 1.010, data: 0.002) D_A: 0.164 G_A: 0.341 cycle_A: 0.208 idt_A: 0.006 D_B: 0.144 G_B: 0.361 cycle_B: 0.375 idt_B: 0.009 \n",
            "(epoch: 6, iters: 1220, time: 1.005, data: 0.002) D_A: 0.108 G_A: 0.577 cycle_A: 0.205 idt_A: 0.028 D_B: 0.203 G_B: 0.490 cycle_B: 0.495 idt_B: 0.021 \n",
            "(epoch: 6, iters: 1320, time: 0.992, data: 0.002) D_A: 0.132 G_A: 0.996 cycle_A: 0.062 idt_A: 0.007 D_B: 0.114 G_B: 0.459 cycle_B: 0.091 idt_B: 0.012 \n",
            "End of epoch 6 / 60 \t Time Taken: 798 sec\n",
            "learning rate = 0.0002000\n",
            "(epoch: 7, iters: 84, time: 1.066, data: 0.002) D_A: 0.182 G_A: 0.649 cycle_A: 0.171 idt_A: 0.007 D_B: 0.182 G_B: 0.399 cycle_B: 0.321 idt_B: 0.026 \n",
            "(epoch: 7, iters: 184, time: 1.012, data: 0.002) D_A: 0.177 G_A: 0.613 cycle_A: 0.131 idt_A: 0.009 D_B: 0.179 G_B: 0.422 cycle_B: 0.230 idt_B: 0.007 \n",
            "(epoch: 7, iters: 284, time: 1.029, data: 0.002) D_A: 0.326 G_A: 0.450 cycle_A: 0.040 idt_A: 0.017 D_B: 0.194 G_B: 0.551 cycle_B: 0.178 idt_B: 0.007 \n",
            "(epoch: 7, iters: 384, time: 1.018, data: 0.002) D_A: 0.217 G_A: 0.804 cycle_A: 0.072 idt_A: 0.007 D_B: 0.156 G_B: 0.421 cycle_B: 0.116 idt_B: 0.009 \n",
            "(epoch: 7, iters: 484, time: 0.986, data: 0.002) D_A: 0.296 G_A: 0.780 cycle_A: 0.094 idt_A: 0.018 D_B: 0.218 G_B: 0.416 cycle_B: 0.099 idt_B: 0.005 \n",
            "(epoch: 7, iters: 584, time: 1.045, data: 0.003) D_A: 0.168 G_A: 0.522 cycle_A: 0.206 idt_A: 0.046 D_B: 0.202 G_B: 0.370 cycle_B: 0.585 idt_B: 0.022 \n",
            "(epoch: 7, iters: 684, time: 1.049, data: 0.003) D_A: 0.099 G_A: 0.438 cycle_A: 0.163 idt_A: 0.005 D_B: 0.213 G_B: 0.755 cycle_B: 0.291 idt_B: 0.016 \n",
            "(epoch: 7, iters: 784, time: 0.994, data: 0.003) D_A: 0.341 G_A: 0.380 cycle_A: 0.399 idt_A: 0.372 D_B: 0.245 G_B: 0.379 cycle_B: 0.593 idt_B: 0.027 \n",
            "(epoch: 7, iters: 884, time: 0.969, data: 0.003) D_A: 0.106 G_A: 0.412 cycle_A: 0.022 idt_A: 0.003 D_B: 0.308 G_B: 0.842 cycle_B: 0.069 idt_B: 0.009 \n",
            "(epoch: 7, iters: 984, time: 0.971, data: 0.002) D_A: 0.134 G_A: 1.219 cycle_A: 0.017 idt_A: 0.006 D_B: 0.130 G_B: 0.525 cycle_B: 0.116 idt_B: 0.005 \n",
            "(epoch: 7, iters: 1084, time: 1.004, data: 0.003) D_A: 0.293 G_A: 0.172 cycle_A: 0.139 idt_A: 0.077 D_B: 0.280 G_B: 0.375 cycle_B: 0.266 idt_B: 0.010 \n"
          ],
          "name": "stdout"
        }
      ]
    },
    {
      "cell_type": "code",
      "metadata": {
        "id": "W6BJKkwlmSHc",
        "colab_type": "code",
        "colab": {}
      },
      "source": [
        ""
      ],
      "execution_count": null,
      "outputs": []
    },
    {
      "cell_type": "code",
      "metadata": {
        "id": "AB_vezxUmSDo",
        "colab_type": "code",
        "colab": {}
      },
      "source": [
        ""
      ],
      "execution_count": null,
      "outputs": []
    },
    {
      "cell_type": "code",
      "metadata": {
        "id": "qa2eUPI1H6Wo",
        "colab_type": "code",
        "colab": {
          "base_uri": "https://localhost:8080/",
          "height": 122
        },
        "outputId": "5866c2f9-06a9-4eaa-f4dc-92128dbdd80e"
      },
      "source": [
        "import torch\n",
        "train_on_gpu = torch.cuda.is_available()\n",
        "\n",
        "if not train_on_gpu:\n",
        "  print(\"1\")\n",
        "\n",
        "else:\n",
        "  print(\"training on gpu\")\n",
        "\n",
        "#print(torch.cuda.current_device())\n",
        "print(torch.cuda.device(0))\n",
        "print(torch.cuda.device_count())\n",
        "print(torch.cuda.get_device_name(0))\n",
        "print(torch.cuda.is_available())\n",
        "print(torch.cuda.current_device())"
      ],
      "execution_count": null,
      "outputs": [
        {
          "output_type": "stream",
          "text": [
            "training on gpu\n",
            "<torch.cuda.device object at 0x7fe024f57358>\n",
            "1\n",
            "Tesla K80\n",
            "True\n",
            "0\n"
          ],
          "name": "stdout"
        }
      ]
    },
    {
      "cell_type": "code",
      "metadata": {
        "id": "_pIh_S1fLfxr",
        "colab_type": "code",
        "colab": {}
      },
      "source": [
        ""
      ],
      "execution_count": null,
      "outputs": []
    }
  ]
}