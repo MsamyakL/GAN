{
 "cells": [
  {
   "cell_type": "markdown",
   "metadata": {},
   "source": [
    "# Training a GAN Model\n",
    "The GAN training algorithm involves training both the discriminator and the generator model\n",
    "in parallel\n"
   ]
  },
  {
   "cell_type": "code",
   "execution_count": 3,
   "metadata": {},
   "outputs": [],
   "source": [
    "def train_gan(data_set,generator,discriminator, n_epochs,n_batches, latent_dim):\n",
    "    \n",
    "    batches_per_epochs = int(len(data_set)/n_batches)\n",
    "    num_training_iter  =  (batches_per_epochs)*n_epochs\n",
    "    \n",
    "    for i in range (num_training_iter):\n",
    "        \n",
    "        #############################################################################\n",
    "        # Here we give random noise of input and of dimension as latent_dim , batch_size\n",
    "        inputs = randn(latent_dim*n_batch)\n",
    "        inputs = inputs.reshape(n_batch,latent_dim)\n",
    "        fake = generator.predict(inputs)\n",
    "        #######\n",
    "        index = randint(0,len(dataset),n_batches) # a batch of random numbers from dataset\n",
    "        real = dataset[index] # a batch of real images\n",
    "        \n",
    "        outputs = discriminator(fake)\n",
    "        #############################################################################\n",
    "    "
   ]
  },
  {
   "cell_type": "markdown",
   "metadata": {},
   "source": [
    "here basically a random noise is passed to generator it generates a fake image which is passed to discriminator the get the output"
   ]
  },
  {
   "cell_type": "markdown",
   "metadata": {},
   "source": [
    "# Loss functions and updates of weights"
   ]
  },
  {
   "cell_type": "code",
   "execution_count": 6,
   "metadata": {},
   "outputs": [],
   "source": [
    "# for Discriminator it's crossentropy (As discriminator is doing classification task)\n",
    "\n",
    "# the last layer for generator will be of this kind\n",
    "model.add(Dense(1 , activation = 'sigmoid'))\n",
    "# now the loss function\n",
    "model.compile(loss = 'binary_crossentropy', optimizer = Adam)"
   ]
  },
  {
   "cell_type": "code",
   "execution_count": null,
   "metadata": {},
   "outputs": [],
   "source": []
  }
 ],
 "metadata": {
  "kernelspec": {
   "display_name": "Python 3",
   "language": "python",
   "name": "python3"
  },
  "language_info": {
   "codemirror_mode": {
    "name": "ipython",
    "version": 3
   },
   "file_extension": ".py",
   "mimetype": "text/x-python",
   "name": "python",
   "nbconvert_exporter": "python",
   "pygments_lexer": "ipython3",
   "version": "3.7.3"
  }
 },
 "nbformat": 4,
 "nbformat_minor": 2
}
